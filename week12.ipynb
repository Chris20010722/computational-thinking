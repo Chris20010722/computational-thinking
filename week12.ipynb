{
  "nbformat": 4,
  "nbformat_minor": 0,
  "metadata": {
    "colab": {
      "name": "Untitled6.ipynb",
      "provenance": [],
      "authorship_tag": "ABX9TyMlJfMYgu8xQpLqublN2WhQ",
      "include_colab_link": true
    },
    "kernelspec": {
      "name": "python3",
      "display_name": "Python 3"
    }
  },
  "cells": [
    {
      "cell_type": "markdown",
      "metadata": {
        "id": "view-in-github",
        "colab_type": "text"
      },
      "source": [
        "<a href=\"https://colab.research.google.com/github/Chris20010722/computational-thinking/blob/master/week12.ipynb\" target=\"_parent\"><img src=\"https://colab.research.google.com/assets/colab-badge.svg\" alt=\"Open In Colab\"/></a>"
      ]
    },
    {
      "cell_type": "code",
      "metadata": {
        "colab": {
          "base_uri": "https://localhost:8080/"
        },
        "id": "kDnV-a61e75c",
        "outputId": "ded1a408-0776-4f1c-d6be-eeb8adb05bfc"
      },
      "source": [
        "shopping_list = ['牛奶', '紅茶', '咖啡', '西瓜汁', '鳳梨汁']\n",
        "print(shopping_list)"
      ],
      "execution_count": 1,
      "outputs": [
        {
          "output_type": "stream",
          "text": [
            "['牛奶', '紅茶', '咖啡', '西瓜汁', '鳳梨汁']\n"
          ],
          "name": "stdout"
        }
      ]
    },
    {
      "cell_type": "code",
      "metadata": {
        "colab": {
          "base_uri": "https://localhost:8080/"
        },
        "id": "G0JRyOaJicGe",
        "outputId": "93100e93-bae1-4524-e6bd-bc039c5494b5"
      },
      "source": [
        "season = \"1995-1996\"\n",
        "team = \"Chicago Bulls\"\n",
        "coach = \"Phil Jackson\"\n",
        "records = [72, 10]\n",
        "starting = [\"Ron Harper\",\"Michael Jordan\",\"Scottie Pippen\",\"Dennis Rodman\",\"Luc Longley\"]\n",
        "champion = True\n",
        "best_NBA = list((season, team, coach, records, starting,champion))\n",
        "\n",
        "print(best_NBA)\n",
        "\n",
        "print(type(best_NBA))\n",
        "\n",
        "print(best_NBA[-2])\n",
        "\n",
        "print(best_NBA[0:3])\n",
        "\n",
        "\n",
        "print(season)\n",
        "\n",
        "print(team)\n",
        "\n",
        "print(coach)"
      ],
      "execution_count": 12,
      "outputs": [
        {
          "output_type": "stream",
          "text": [
            "['1995-1996', 'Chicago Bulls', 'Phil Jackson', [72, 10], ['Ron Harper', 'Michael Jordan', 'Scottie Pippen', 'Dennis Rodman', 'Luc Longley'], True]\n",
            "<class 'list'>\n",
            "['Ron Harper', 'Michael Jordan', 'Scottie Pippen', 'Dennis Rodman', 'Luc Longley']\n",
            "['1995-1996', 'Chicago Bulls', 'Phil Jackson']\n",
            "1995-1996\n",
            "Chicago Bulls\n",
            "Phil Jackson\n"
          ],
          "name": "stdout"
        }
      ]
    },
    {
      "cell_type": "code",
      "metadata": {
        "colab": {
          "base_uri": "https://localhost:8080/"
        },
        "id": "-ajqiHZ7uwwA",
        "outputId": "36a2eaf9-16f5-408e-f38f-bbdc76e5f827"
      },
      "source": [
        "# [0,1,2,3,4,5,6,7,8,9]\n",
        "a = range(0,10,1) # range(0,9,1)\n",
        "print(a[0],a[1],a[2],a[3],a[4],a[5],a[6],a[7],a[8],a[9])\n",
        "# [2,3,4,5]\n",
        "b = range(0,9,2) #range(2,6,1)\n",
        "print(b[0], b[1], b[2], b[3], b[4])\n",
        "# [2,5,8]\n",
        "c = range(5, 10, 2)\n",
        "print(c[0], c[1], c[2])\n",
        "# [10,8,6,4]\n",
        "d = range(0, -10, -1)\n",
        "print(d[0], d[1], d[2], d[3], d[4], d[5], d[6], d[7], d[8], d[9])\n"
      ],
      "execution_count": 19,
      "outputs": [
        {
          "output_type": "stream",
          "text": [
            "0 1 2 3 4 5 6 7 8 9\n",
            "0 2 4 6 8\n",
            "5 7 9\n",
            "0 -1 -2 -3 -4 -5 -6 -7 -8 -9\n"
          ],
          "name": "stdout"
        }
      ]
    },
    {
      "cell_type": "code",
      "metadata": {
        "colab": {
          "base_uri": "https://localhost:8080/"
        },
        "id": "UU4-w9zDvclc",
        "outputId": "ad6c5a62-0bfb-4b3f-8f75-9c25783fd1d7"
      },
      "source": [
        "#分組作業\n",
        "project_title = \"要不要吃中餐?\"\n",
        "name_title = [\"邱秉承\" ,\"何原興\" ,\"邱俊彥\" ,\"吳家俊\" ,\"周子豪\" ,\"王耀霆\" ,\"張瑋麟\" ,\"葛毓天\"]\n",
        "numer_title = [\"69\" ,\"35\" ,\"13\",\"85\"]\n",
        "dust_title = \"尚未決定\"\n",
        "load_title = \"尚未決定\"\n",
        "print(project_title,name_title,numer_title,dust_title,load_title)"
      ],
      "execution_count": 25,
      "outputs": [
        {
          "output_type": "stream",
          "text": [
            "要不要吃中餐? ['邱秉承', '何原興', '邱俊彥', '吳家俊', '周子豪', '王耀霆', '張瑋麟', '葛毓天'] ['69', '35', '13', '85'] 尚未決定 尚未決定\n"
          ],
          "name": "stdout"
        }
      ]
    }
  ]
}