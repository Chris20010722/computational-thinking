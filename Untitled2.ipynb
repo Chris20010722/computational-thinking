{
  "nbformat": 4,
  "nbformat_minor": 0,
  "metadata": {
    "colab": {
      "name": "Untitled2.ipynb",
      "provenance": [],
      "authorship_tag": "ABX9TyOdSRvWdeXQyZr1Zxo9BU2e",
      "include_colab_link": true
    },
    "kernelspec": {
      "name": "python3",
      "display_name": "Python 3"
    }
  },
  "cells": [
    {
      "cell_type": "markdown",
      "metadata": {
        "id": "view-in-github",
        "colab_type": "text"
      },
      "source": [
        "<a href=\"https://colab.research.google.com/github/Chris20010722/computational-thinking/blob/master/Untitled2.ipynb\" target=\"_parent\"><img src=\"https://colab.research.google.com/assets/colab-badge.svg\" alt=\"Open In Colab\"/></a>"
      ]
    },
    {
      "cell_type": "code",
      "metadata": {
        "id": "nwtdvcrsbZyR",
        "outputId": "7c8f8713-f891-4cb6-a6db-3c8b5b179d4b",
        "colab": {
          "base_uri": "https://localhost:8080/"
        }
      },
      "source": [
        "clothes = int(input('please enter the quantity of the clothes'))\n",
        "trousers = int(input('please enter the quantity of the trousers'))\n",
        "vest = int(input('please enter the quantity of the vest'))\n",
        "\n",
        "total = clothes*300 + trousers*350 + vest*400\n",
        "print('the total price of the clothes',total)"
      ],
      "execution_count": 7,
      "outputs": [
        {
          "output_type": "stream",
          "text": [
            "please enter the quantity of the clothes5\n",
            "please enter the quantity of the trousers6\n",
            "please enter the quantity of the vest7\n",
            "the total price of the clothes 6400\n"
          ],
          "name": "stdout"
        }
      ]
    },
    {
      "cell_type": "code",
      "metadata": {
        "id": "pTqBYABqkruq",
        "outputId": "ddfbede0-3d87-4ea3-bfd0-376c27fdd88d",
        "colab": {
          "base_uri": "https://localhost:8080/"
        }
      },
      "source": [
        "cans = int(input('please enter the quantity of the cans you want'))\n",
        "total = (cans//12)*200 + (cans%12)*20\n",
        "print('the price is',total)"
      ],
      "execution_count": 13,
      "outputs": [
        {
          "output_type": "stream",
          "text": [
            "please enter the quantity of the cans you want5\n",
            "the price is 100\n"
          ],
          "name": "stdout"
        }
      ]
    },
    {
      "cell_type": "code",
      "metadata": {
        "id": "kVivLi3eixs4",
        "outputId": "aa1e1cec-8058-4167-fa73-045f7da6fbcb",
        "colab": {
          "base_uri": "https://localhost:8080/"
        }
      },
      "source": [
        "fir = int(input('please enter the first exam score'))\n",
        "sec = int(input('please enter your midterm score'))\n",
        "final = int(input('please enter final score'))\n",
        "total = fir + sec + final\n",
        "print('total score', total)\n",
        "average = total/3\n",
        "print('average score',average)"
      ],
      "execution_count": 14,
      "outputs": [
        {
          "output_type": "stream",
          "text": [
            "please enter the first exam score20\n",
            "please enter your midterm score10\n",
            "please enter final score50\n",
            "total score 80\n",
            "average score 26.666666666666668\n"
          ],
          "name": "stdout"
        }
      ]
    }
  ]
}